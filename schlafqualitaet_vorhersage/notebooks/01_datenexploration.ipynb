{
 "cells": [
  {
   "cell_type": "markdown",
   "metadata": {},
   "source": [
    "# Datenexploration für Schlafqualität-Vorhersage"
   ]
  },
  {
   "cell_type": "code",
   "execution_count": 3,
   "metadata": {},
   "outputs": [],
   "source": [
    "import pandas as pd\n",
    "import numpy as np\n",
    "import matplotlib.pyplot as plt\n",
    "import seaborn as sns\n",
    "sns.set_theme()\n"
   ]
  },
  {
   "cell_type": "markdown",
   "metadata": {},
   "source": [
    "## 1. Laden und Überblick des Datensatzes"
   ]
  },
  {
   "cell_type": "code",
   "execution_count": 4,
   "metadata": {},
   "outputs": [
    {
     "name": "stdout",
     "output_type": "stream",
     "text": [
      "   Heart_Rate_Variability  Body_Temperature  Movement_During_Sleep  \\\n",
      "0               79.934283         37.199678               1.324822   \n",
      "1               67.234714         36.962317               1.855481   \n",
      "2               82.953771         36.529815               1.207580   \n",
      "3              100.460597         36.176532               1.692038   \n",
      "4               65.316933         36.849112               0.106385   \n",
      "\n",
      "   Sleep_Duration_Hours  Sleep_Quality_Score  Caffeine_Intake_mg  \\\n",
      "0              4.638289                  1.0          107.624032   \n",
      "1              6.209422                  1.0          104.658589   \n",
      "2              6.879592                 10.0            0.000000   \n",
      "3             10.331531                  1.0          116.990981   \n",
      "4              8.334830                  1.0          223.282908   \n",
      "\n",
      "   Stress_Level  Bedtime_Consistency  Light_Exposure_hours  \n",
      "0      2.771837             0.657037              7.933949  \n",
      "1      3.738138             0.144464              6.992699  \n",
      "2      3.115880             0.642949              7.655250  \n",
      "3      3.904008             0.453255              9.429463  \n",
      "4      4.571699             0.641492             10.555713  \n",
      "\n",
      "Datensatzinformationen:\n",
      "<class 'pandas.core.frame.DataFrame'>\n",
      "RangeIndex: 1000 entries, 0 to 999\n",
      "Data columns (total 9 columns):\n",
      " #   Column                  Non-Null Count  Dtype  \n",
      "---  ------                  --------------  -----  \n",
      " 0   Heart_Rate_Variability  1000 non-null   float64\n",
      " 1   Body_Temperature        1000 non-null   float64\n",
      " 2   Movement_During_Sleep   1000 non-null   float64\n",
      " 3   Sleep_Duration_Hours    1000 non-null   float64\n",
      " 4   Sleep_Quality_Score     1000 non-null   float64\n",
      " 5   Caffeine_Intake_mg      1000 non-null   float64\n",
      " 6   Stress_Level            1000 non-null   float64\n",
      " 7   Bedtime_Consistency     1000 non-null   float64\n",
      " 8   Light_Exposure_hours    1000 non-null   float64\n",
      "dtypes: float64(9)\n",
      "memory usage: 70.4 KB\n",
      "None\n",
      "\n",
      "Fehlende Werte:\n",
      "Heart_Rate_Variability    0\n",
      "Body_Temperature          0\n",
      "Movement_During_Sleep     0\n",
      "Sleep_Duration_Hours      0\n",
      "Sleep_Quality_Score       0\n",
      "Caffeine_Intake_mg        0\n",
      "Stress_Level              0\n",
      "Bedtime_Consistency       0\n",
      "Light_Exposure_hours      0\n",
      "dtype: int64\n"
     ]
    }
   ],
   "source": [
    "# Daten laden\n",
    "df = pd.read_csv('/Users/tommygrace/Desktop/Code/schlafqualitaet_vorhersage/data/sleep_health_metrics.csv')\n",
    "print(df.head())\n",
    "\n",
    "# Informationen über den Datensatz\n",
    "print(\"\\nDatensatzinformationen:\")\n",
    "print(df.info())\n",
    "\n",
    "# Überprüfung auf fehlende Werte\n",
    "print(\"\\nFehlende Werte:\")\n",
    "print(df.isnull().sum())\n",
    "\n",
    "# Gedanken: Es ist wichtig zu überprüfen, ob es fehlende Werte gibt und wie wir damit umgehen sollten."
   ]
  },
  {
   "cell_type": "markdown",
   "metadata": {},
   "source": [
    "## 2. Statistische Zusammenfassung"
   ]
  },
  {
   "cell_type": "code",
   "execution_count": null,
   "metadata": {},
   "outputs": [],
   "source": [
    "# Grundlegende statistische Informationen\n",
    "print(df.describe())\n",
    "\n",
    "# Gedanken: Die statistische Zusammenfassung gibt uns einen ersten Einblick in die Verteilung der Daten.\n",
    "# Wir sollten auf Ausreißer und ungewöhnliche Werte achten."
   ]
  },
  {
   "cell_type": "markdown",
   "metadata": {},
   "source": [
    "## 3. Visualisierung der Verteilungen"
   ]
  },
  {
   "cell_type": "code",
   "execution_count": null,
   "metadata": {},
   "outputs": [],
   "source": [
    "# Histogramme für numerische Variablen\n",
    "numeric_columns = df.select_dtypes(include=[np.number]).columns\n",
    "fig, axes = plt.subplots(nrows=3, ncols=3, figsize=(20, 20))\n",
    "axes = axes.flatten()\n",
    "\n",
    "for i, col in enumerate(numeric_columns):\n",
    "    sns.histplot(data=df, x=col, kde=True, ax=axes[i])\n",
    "    axes[i].set_title(f'Verteilung von {col}')\n",
    "\n",
    "plt.tight_layout()\n",
    "plt.show()\n",
    "\n",
    "# Gedanken: Die Verteilungen helfen uns, Ausreißer zu identifizieren und zu verstehen,\n",
    "# ob Transformationen der Daten notwendig sein könnten."
   ]
  },
  {
   "cell_type": "markdown",
   "metadata": {},
   "source": [
    "## 4. Korrelationsanalyse"
   ]
  },
  {
   "cell_type": "code",
   "execution_count": null,
   "metadata": {},
   "outputs": [],
   "source": [
    "# Korrelationsmatrix\n",
    "plt.figure(figsize=(12, 10))\n",
    "sns.heatmap(df[numeric_columns].corr(), annot=True, cmap='coolwarm', linewidths=0.5)\n",
    "plt.title('Korrelationsmatrix der numerischen Variablen')\n",
    "plt.show()\n",
    "\n",
    "# Gedanken: Die Korrelationsmatrix hilft uns, Beziehungen zwischen den Variablen zu erkennen.\n",
    "# Starke Korrelationen könnten auf Multikollinearität hinweisen, was bei der Modellierung berücksichtigt werden sollte."
   ]
  },
  {
   "cell_type": "markdown",
   "metadata": {},
   "source": [
    "## 5. Identifizierung möglicher Ausreißer"
   ]
  },
  {
   "cell_type": "code",
   "execution_count": null,
   "metadata": {},
   "outputs": [],
   "source": [
    "# Boxplots für numerische Variablen\n",
    "fig, axes = plt.subplots(nrows=3, ncols=3, figsize=(20, 20))\n",
    "axes = axes.flatten()\n",
    "\n",
    "for i, col in enumerate(numeric_columns):\n",
    "    sns.boxplot(data=df, y=col, ax=axes[i])\n",
    "    axes[i].set_title(f'Boxplot von {col}')\n",
    "\n",
    "plt.tight_layout()\n",
    "plt.show()\n",
    "\n",
    "# Gedanken: Boxplots sind nützlich, um Ausreißer visuell zu identifizieren.\n",
    "# Wir sollten überlegen, wie wir mit diesen Ausreißern umgehen wollen (z.B. entfernen, transformieren oder beibehalten)."
   ]
  },
  {
   "cell_type": "markdown",
   "metadata": {},
   "source": [
    "## 6. Zusammenfassung und nächste Schritte"
   ]
  },
  {
   "cell_type": "markdown",
   "metadata": {},
   "source": [
    "Basierend auf unserer Datenexploration können wir folgende Schlüsse ziehen und nächste Schritte planen:\n",
    "\n",
    "1. Datenqualität: Überprüfen Sie, ob fehlende Werte behandelt werden müssen.\n",
    "2. Ausreißer: Identifizieren Sie signifikante Ausreißer und entscheiden Sie, wie damit umzugehen ist.\n",
    "3. Verteilungen: Betrachten Sie, ob Datentransformationen (z.B. Log-Transformation) für schiefe Verteilungen sinnvoll sind.\n",
    "4. Korrelationen: Berücksichtigen Sie starke Korrelationen bei der Modellauswahl und -entwicklung.\n",
    "5. Feature Engineering: Überlegen Sie, ob neue Features aus den vorhandenen Daten erstellt werden können.\n",
    "6. Kategorische Variablen: Führen Sie eine detailliertere Analyse der kategorischen Variablen durch (z.B. Häufigkeitsverteilungen).\n",
    "\n",
    "Der nächste Schritt könnte die Datenvorbereitung sein, gefolgt von der Auswahl und dem Training eines geeigneten Modells zur Vorhersage der Schlafqualität."
   ]
  }
 ],
 "metadata": {
  "kernelspec": {
   "display_name": "Python 3",
   "language": "python",
   "name": "python3"
  },
  "language_info": {
   "codemirror_mode": {
    "name": "ipython",
    "version": 3
   },
   "file_extension": ".py",
   "mimetype": "text/x-python",
   "name": "python",
   "nbconvert_exporter": "python",
   "pygments_lexer": "ipython3",
   "version": "3.10.0"
  }
 },
 "nbformat": 4,
 "nbformat_minor": 4
}
