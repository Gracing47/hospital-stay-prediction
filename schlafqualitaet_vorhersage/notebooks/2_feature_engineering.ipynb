{
 "cells": [
  {
   "cell_type": "markdown",
   "metadata": {},
   "source": [
    "# Datenexploration für Schlafqualität-Vorhersage"
   ]
  },
  {
   "cell_type": "code",
   "execution_count": null,
   "metadata": {},
   "outputs": [],
   "source": [
    "import pandas as pd\n",
    "import matplotlib.pyplot as plt\n",
    "import seaborn as sns\n",
    "\n",
    "%matplotlib inline"
   ]
  },
  {
   "cell_type": "code",
   "execution_count": 4,
   "metadata": {},
   "outputs": [
    {
     "name": "stdout",
     "output_type": "stream",
     "text": [
      "   Heart_Rate_Variability  Body_Temperature  Movement_During_Sleep  \\\n",
      "0               79.934283         37.199678               1.324822   \n",
      "1               67.234714         36.962317               1.855481   \n",
      "2               82.953771         36.529815               1.207580   \n",
      "3              100.460597         36.176532               1.692038   \n",
      "4               65.316933         36.849112               0.106385   \n",
      "\n",
      "   Sleep_Duration_Hours  Sleep_Quality_Score  Caffeine_Intake_mg  \\\n",
      "0              4.638289                  1.0          107.624032   \n",
      "1              6.209422                  1.0          104.658589   \n",
      "2              6.879592                 10.0            0.000000   \n",
      "3             10.331531                  1.0          116.990981   \n",
      "4              8.334830                  1.0          223.282908   \n",
      "\n",
      "   Stress_Level  Bedtime_Consistency  Light_Exposure_hours  \\\n",
      "0      2.771837             0.657037              7.933949   \n",
      "1      3.738138             0.144464              6.992699   \n",
      "2      3.115880             0.642949              7.655250   \n",
      "3      3.904008             0.453255              9.429463   \n",
      "4      4.571699             0.641492             10.555713   \n",
      "\n",
      "  Sleep_Quality_Group  Caffeine_Stress_Interaction  High_Caffeine  \\\n",
      "0                 Low                   298.316304              0   \n",
      "1                 Low                   391.228284              0   \n",
      "2                High                     0.000000              0   \n",
      "3                 Low                   456.733767              0   \n",
      "4                 Low                  1020.782333              1   \n",
      "\n",
      "   Stress_Level^2  Caffeine_Intake_mg^2  \n",
      "0        7.683082          11582.932220  \n",
      "1       13.973678          10953.420285  \n",
      "2        9.708706              0.000000  \n",
      "3       15.241281          13686.889596  \n",
      "4       20.900435          49855.257086  \n"
     ]
    }
   ],
   "source": [
    "import pandas as pd\n",
    "import numpy as np\n",
    "import matplotlib.pyplot as plt\n",
    "import seaborn as sns\n",
    "from scipy import stats\n",
    "from statsmodels.stats.outliers_influence import variance_inflation_factor\n",
    "\n",
    "# Daten laden\n",
    "df = pd.read_csv('../data/cleaned_sleep_health_metrics.csv')\n",
    "print(df.head())"
   ]
  },
  {
   "cell_type": "code",
   "execution_count": 5,
   "metadata": {},
   "outputs": [
    {
     "name": "stdout",
     "output_type": "stream",
     "text": [
      "       Heart_Rate_Variability  Body_Temperature  Movement_During_Sleep  \\\n",
      "count             1000.000000       1000.000000            1000.000000   \n",
      "mean                70.386641         36.535418               2.005834   \n",
      "std                 19.584319          0.498727               0.983454   \n",
      "min                  5.174653         35.029806              -1.019512   \n",
      "25%                 57.048194         36.196879               1.352000   \n",
      "50%                 70.506012         36.531539               1.999749   \n",
      "75%                 82.958878         36.864441               2.660915   \n",
      "max                147.054630         38.096554               5.926238   \n",
      "\n",
      "       Sleep_Duration_Hours  Sleep_Quality_Score  Caffeine_Intake_mg  \\\n",
      "count           1000.000000          1000.000000         1000.000000   \n",
      "mean               7.471921             2.592946          148.260148   \n",
      "std                1.540699             2.979500           94.031760   \n",
      "min                3.105827             1.000000            0.000000   \n",
      "25%                6.393869             1.000000           80.630719   \n",
      "50%                7.500277             1.000000          145.717293   \n",
      "75%                8.500418             2.537789          211.244685   \n",
      "max               12.364639            10.000000          400.000000   \n",
      "\n",
      "       Stress_Level  Bedtime_Consistency  Light_Exposure_hours  \\\n",
      "count   1000.000000          1000.000000           1000.000000   \n",
      "mean       4.940956             0.504222              8.036684   \n",
      "std        2.032708             0.204137              2.023371   \n",
      "min        0.000000             0.000000              0.326689   \n",
      "25%        3.489725             0.361569              6.726291   \n",
      "50%        4.890507             0.500996              8.038248   \n",
      "75%        6.399490             0.644680              9.354408   \n",
      "max       10.000000             1.000000             14.754766   \n",
      "\n",
      "       Caffeine_Stress_Interaction  High_Caffeine  Stress_Level^2  \\\n",
      "count                  1000.000000     1000.00000     1000.000000   \n",
      "mean                    735.135105        0.50000       28.540819   \n",
      "std                     580.742882        0.50025       21.141871   \n",
      "min                       0.000000        0.00000        0.000000   \n",
      "25%                     288.412096        0.00000       12.178184   \n",
      "50%                     619.769506        0.50000       23.917102   \n",
      "75%                    1070.159357        1.00000       40.953485   \n",
      "max                    3316.829867        1.00000      100.000000   \n",
      "\n",
      "       Caffeine_Intake_mg^2  \n",
      "count           1000.000000  \n",
      "mean           30814.201356  \n",
      "std            32802.183132  \n",
      "min                0.000000  \n",
      "25%             6501.366932  \n",
      "50%            21233.552986  \n",
      "75%            44624.317162  \n",
      "max           160000.000000  \n"
     ]
    }
   ],
   "source": [
    "# Grundlegende statistische Informationen\n",
    "print(df.describe())"
   ]
  },
  {
   "cell_type": "code",
   "execution_count": 8,
   "metadata": {},
   "outputs": [
    {
     "name": "stdout",
     "output_type": "stream",
     "text": [
      "Feature Engineering abgeschlossen. Trainings- und Testdaten wurden gespeichert.\n"
     ]
    }
   ],
   "source": [
    "import pandas as pd\n",
    "import numpy as np\n",
    "from sklearn.preprocessing import StandardScaler\n",
    "from sklearn.model_selection import train_test_split\n",
    "\n",
    "# Laden der Daten\n",
    "df = pd.read_csv('../data/cleaned_sleep_health_metrics.csv')\n",
    "\n",
    "# Erstellen einiger Interaktionsterme\n",
    "df['Caffeine_Stress_Interaction'] = df['Caffeine_Intake_mg'] * df['Stress_Level']\n",
    "df['Sleep_Duration_Quality'] = df['Sleep_Duration_Hours'] * df['Sleep_Quality_Score']\n",
    "\n",
    "# Normalisierung numerischer Features\n",
    "scaler = StandardScaler()\n",
    "numeric_features = ['Heart_Rate_Variability', 'Body_Temperature', 'Movement_During_Sleep', \n",
    "                    'Sleep_Duration_Hours', 'Caffeine_Intake_mg', 'Stress_Level', \n",
    "                    'Light_Exposure_hours', 'Caffeine_Stress_Interaction', 'Sleep_Duration_Quality']\n",
    "df[numeric_features] = scaler.fit_transform(df[numeric_features])\n",
    "\n",
    "# One-Hot-Encoding für kategorische Variablen\n",
    "df = pd.get_dummies(df, columns=['Sleep_Quality_Group', 'Bedtime_Consistency'])\n",
    "\n",
    "# Definieren der Features und des Ziels\n",
    "X = df.drop('Sleep_Quality_Score', axis=1)\n",
    "y = df['Sleep_Quality_Score']\n",
    "\n",
    "# Aufteilen in Trainings- und Testdaten\n",
    "X_train, X_test, y_train, y_test = train_test_split(X, y, test_size=0.2, random_state=42)\n",
    "\n",
    "# Speichern der aufbereiteten Daten\n",
    "train_data = pd.concat([X_train, y_train], axis=1)\n",
    "test_data = pd.concat([X_test, y_test], axis=1)\n",
    "\n",
    "train_data.to_csv('../data/train_data.csv', index=False)\n",
    "test_data.to_csv('../data/test_data.csv', index=False)\n",
    "\n",
    "print(\"Feature Engineering abgeschlossen. Trainings- und Testdaten wurden gespeichert.\")\n"
   ]
  },
  {
   "cell_type": "code",
   "execution_count": 9,
   "metadata": {},
   "outputs": [
    {
     "name": "stdout",
     "output_type": "stream",
     "text": [
      "Aufbereitete Daten wurden gespeichert.\n"
     ]
    }
   ],
   "source": [
    "# Speichern der aufbereiteten Daten\n",
    "train_data = pd.concat([X_train, y_train], axis=1)\n",
    "test_data = pd.concat([X_test, y_test], axis=1)\n",
    "\n",
    "train_data.to_csv('../data/train_data.csv', index=False)\n",
    "test_data.to_csv('../data/test_data.csv', index=False)\n",
    "\n",
    "print(\"Aufbereitete Daten wurden gespeichert.\")\n"
   ]
  }
 ],
 "metadata": {
  "kernelspec": {
   "display_name": "Python 3",
   "language": "python",
   "name": "python3"
  },
  "language_info": {
   "codemirror_mode": {
    "name": "ipython",
    "version": 3
   },
   "file_extension": ".py",
   "mimetype": "text/x-python",
   "name": "python",
   "nbconvert_exporter": "python",
   "pygments_lexer": "ipython3",
   "version": "3.10.0"
  }
 },
 "nbformat": 4,
 "nbformat_minor": 4
}
